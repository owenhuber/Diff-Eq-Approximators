{
 "cells": [
  {
   "cell_type": "code",
   "execution_count": 2,
   "id": "bc39f023",
   "metadata": {},
   "outputs": [],
   "source": [
    "import numpy as np\n",
    "import sys\n",
    "from numpy import linalg as LA\n",
    "import matplotlib.pyplot as plt\n",
    "from sympy import *"
   ]
  },
  {
   "cell_type": "code",
   "execution_count": 3,
   "id": "fdfa730f",
   "metadata": {},
   "outputs": [],
   "source": [
    "def func(x, t):\n",
    "    return t/(1+x**2)"
   ]
  },
  {
   "cell_type": "code",
   "execution_count": 11,
   "id": "c0d69562",
   "metadata": {},
   "outputs": [
    {
     "name": "stdout",
     "output_type": "stream",
     "text": [
      "The First Order Euler's approximation at t=5 is x = 3.3123329796657055\n"
     ]
    }
   ],
   "source": [
    "## FIRST ORDER EULER\n",
    "\n",
    "def First_Order_Euler(x_p, x0, h, t):\n",
    "    \n",
    "    current_x = x0\n",
    "    \n",
    "    tracking = [x0]\n",
    "    \n",
    "    for i in range(0, int(t/h)):\n",
    "        \n",
    "        current_x += x_p(current_x, h*i)*h \n",
    "        tracking.append(current_x)\n",
    "        \n",
    "    return tracking\n",
    "\n",
    "print(f\"The First Order Euler's approximation at t=5 is x = {First_Order_Euler(func, 0, 0.5, 5)[-1]}\")"
   ]
  },
  {
   "cell_type": "code",
   "execution_count": 16,
   "id": "770cd956",
   "metadata": {},
   "outputs": [
    {
     "name": "stdout",
     "output_type": "stream",
     "text": [
      "The Implicit Euler's approximation at t=5 is x = 3.473018047023819\n"
     ]
    }
   ],
   "source": [
    "## IMPLICIT EULER\n",
    "\n",
    "def Implicit_Euler(x_p, x0, h, t):\n",
    "    \n",
    "    current_x = x0\n",
    "    \n",
    "    tracking = [x0]\n",
    "    \n",
    "    for i in range(0, int(t/h)):\n",
    "        \n",
    "        current_x += x_p(First_Order_Euler(x_p, current_x, h, h)[1], h*(i+1))*h \n",
    "        tracking.append(current_x)\n",
    "        \n",
    "    return tracking\n",
    "\n",
    "print(f\"The Implicit Euler's approximation at t=5 is x = {Implicit_Euler(func, 0, 0.5, 5)[-1]}\")"
   ]
  },
  {
   "cell_type": "code",
   "execution_count": 12,
   "id": "fa60aa25",
   "metadata": {},
   "outputs": [
    {
     "name": "stdout",
     "output_type": "stream",
     "text": [
      "The Heun's Method approximation at t=5 is x = 3.271227698359192\n"
     ]
    }
   ],
   "source": [
    "## HEUNS METHOD\n",
    "\n",
    "def Huens_Approx(x_p, x0, h, t):\n",
    "    \n",
    "    current_x = x0\n",
    "    \n",
    "    tracking = [x0]\n",
    "    \n",
    "    for i in range(0, int(t/h)):\n",
    "        \n",
    "        temp = current_x + x_p(current_x, h*i)*h \n",
    "        current_x += (h/2)*(x_p(temp, h*(i+1))+ x_p(current_x, h*i))\n",
    "        tracking.append(current_x)\n",
    "        \n",
    "    return tracking\n",
    "\n",
    "print(f\"The Heun's Method approximation at t=5 is x = {Huens_Approx(func, 0, 0.5, 5)[-1]}\")"
   ]
  },
  {
   "cell_type": "code",
   "execution_count": 16,
   "id": "1f0e53c1",
   "metadata": {},
   "outputs": [
    {
     "name": "stdout",
     "output_type": "stream",
     "text": [
      "The modified Euler’s method (2nd order) Method approximation at t=5 is x = 3.274604592673152\n"
     ]
    }
   ],
   "source": [
    "## RK2 METHOD\n",
    "\n",
    "def modified_eulers(x_p, x0, h, t):\n",
    "    \n",
    "    current = x0\n",
    "    \n",
    "    tracking = [x0]\n",
    "    \n",
    "    for i in range(0, int(t/h)):\n",
    "        \n",
    "        F1 = h*x_p(current, h*i)\n",
    "        F2 = h*x_p(current + F1/2, h*i + h/2)\n",
    "        \n",
    "        current += F2 \n",
    "        tracking.append(current)\n",
    "        \n",
    "    return tracking\n",
    "\n",
    "print(f\"The modified Euler’s method (2nd order) Method approximation at t=5 is x = {modified_eulers(func, 0, 0.5, 5)[-1]}\")"
   ]
  },
  {
   "cell_type": "code",
   "execution_count": 19,
   "id": "5c1b2042",
   "metadata": {},
   "outputs": [
    {
     "name": "stdout",
     "output_type": "stream",
     "text": [
      "The classical Runge-Kutta method (4th order) Method approximation at t=5 is x = 3.2763603284413545\n"
     ]
    }
   ],
   "source": [
    "## RK4 METHOD\n",
    "\n",
    "def RK4(x_p, x0, h, t):\n",
    "    \n",
    "    current = x0\n",
    "    \n",
    "    tracking = [x0]\n",
    "    \n",
    "    for i in range(0, int(t/h)):\n",
    "        \n",
    "        F1 = h*x_p(current, h*i)\n",
    "        F2 = h*x_p(current + F1/2, h*i + h/2)\n",
    "        F3 = h*x_p(current + F2/2, h*i + h/2)\n",
    "        F4 = h*x_p(current + F3, h*i + h)\n",
    "        \n",
    "        current += (F1 + 2*F2 + 2*F3 + F4)/6 \n",
    "        tracking.append(current)\n",
    "        \n",
    "    return tracking\n",
    "\n",
    "print(f\"The classical Runge-Kutta method (4th order) Method approximation at t=5 is x = {RK4(func, 0, 0.5, 5)[-1]}\")"
   ]
  }
 ],
 "metadata": {
  "kernelspec": {
   "display_name": "Python 3",
   "language": "python",
   "name": "python3"
  },
  "language_info": {
   "codemirror_mode": {
    "name": "ipython",
    "version": 3
   },
   "file_extension": ".py",
   "mimetype": "text/x-python",
   "name": "python",
   "nbconvert_exporter": "python",
   "pygments_lexer": "ipython3",
   "version": "3.7.10"
  }
 },
 "nbformat": 4,
 "nbformat_minor": 5
}
